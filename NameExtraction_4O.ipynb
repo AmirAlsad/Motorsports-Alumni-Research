{
 "cells": [
  {
   "cell_type": "code",
   "execution_count": null,
   "metadata": {},
   "outputs": [],
   "source": [
    "%pip install agency-swarm selenium webdriver-manager selenium_stealth gradio astra_assistants python-dotenv"
   ]
  },
  {
   "cell_type": "code",
   "execution_count": null,
   "metadata": {},
   "outputs": [],
   "source": [
    "from openai import OpenAI\n",
    "from dotenv import load_dotenv\n",
    "\n",
    "import sys\n",
    "sys.path.insert(0, '../')\n",
    "\n",
    "from BrowsingAgent import BrowsingAgent\n",
    "\n",
    "from agency_swarm import Agency, Agent\n",
    "\n",
    "load_dotenv()\n",
    "\n",
    "selenium_config = {\n",
    "    # your profile path\n",
    "    \"chrome_profile_path\": \"\",\n",
    "    \"headless\": False,\n",
    "    \"full_page_screenshot\": True,\n",
    "}\n",
    "\n",
    "browsing_agent = BrowsingAgent(selenium_config=selenium_config)\n",
    "\n",
    "agency = Agency([browsing_agent])\n",
    "print('Setup Agency.')"
   ]
  },
  {
   "cell_type": "code",
   "execution_count": null,
   "metadata": {},
   "outputs": [],
   "source": [
    "demo = agency.demo_gradio(height=700, share=True) # reload the notebook each time you run this cell"
   ]
  }
 ],
 "metadata": {
  "kernelspec": {
   "display_name": "AgencySwarmNotebooks",
   "language": "python",
   "name": "python3"
  },
  "language_info": {
   "codemirror_mode": {
    "name": "ipython",
    "version": 3
   },
   "file_extension": ".py",
   "mimetype": "text/x-python",
   "name": "python",
   "nbconvert_exporter": "python",
   "pygments_lexer": "ipython3",
   "version": "3.12.7"
  }
 },
 "nbformat": 4,
 "nbformat_minor": 2
}
